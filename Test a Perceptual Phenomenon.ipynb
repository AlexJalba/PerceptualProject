{
 "cells": [
  {
   "cell_type": "markdown",
   "metadata": {},
   "source": [
    "\n",
    "\n",
    "Alexandru Jalba-Cornfeld\n",
    "\n",
    "January 2018\n",
    "\n",
    "\n",
    "\n",
    "\n",
    "\n",
    "\n",
    "# Analyzing the Stroop Effect\n",
    "\n",
    "\n",
    "The Stroop experiment is a demonstration of reaction times.\n",
    "In the Stroop experiment participants are asked say out loud the color in which a word is printed.\n",
    "\n",
    "\n",
    "The test has two conditions:\n",
    "\n",
    " - A *Congruent* condition in which words are printed in the same color as is denoted\n",
    " - A *Incongruent* conidtion in which words are displayed in a different color than denoted \n",
    " \n",
    "Participants will go, saying out loud both the con\n",
    "\n",
    "In each case, we measure the time it takes to name the ink colors in equally-sized lists. Each participant will go through the entire set of words and record the total time for each condition. The time is measured in seconds.\n",
    "\n",
    "Our **Goal for this experiment** is to determine weather or not there is a statistical difference between reading the congruent condition and the incongruent condition that can be applied to the entire population based on the sample data that has been provided."
   ]
  },
  {
   "cell_type": "markdown",
   "metadata": {},
   "source": [
    "(1) What is the independent variable? What is the dependent variable?\n",
    "\n",
    " - The dependent variable in our case is the time it takes participants to complete the test.\n",
    " - The independent variable is the type of condition we apply participants, the congruent or the incongreunt test. \n"
   ]
  },
  {
   "cell_type": "markdown",
   "metadata": {},
   "source": [
    "(2) What is an appropriate set of hypotheses for this task? What kind of statistical test do you expect to perform? Justify your choices."
   ]
  },
  {
   "cell_type": "markdown",
   "metadata": {},
   "source": [
    "In order to achieve our goal, we will use a dependant sample t-test to determine if the mean or the two readings is significantly different than 0. Doing the test myself I noticed that the time it took me to reas the incongruent condition was higher by 7 seconds. Although my intution tells me that overall times in the incogreunt reading will be higher we will use a two tailed test to prove it.\n",
    "\n",
    "We will use $\\\\alpha = .05 $ to determine statistical significance.\n",
    "\n",
    "#### Hypothesis\n",
    "\n",
    "NULL Hypthesis: There is no difference in time, for the population to state the colors of words in the congruent vs incongruent condition.\n",
    "\n",
    "ALTERNATIVE Hypothesis will try to demonstrate the opposite, meaning that for a population it takes a different time to state the congruent condition (word names match color) vs incongruent condition (word names do not match the color)\n",
    "\n",
    "We will use descriptive statistics and t-tests to analyse our sample data with respect to the mean time it takes to read both the congruent and incongruent condition and we will infere conclusions on the entire population. \n",
    "\n",
    "In mathematical equations:\n",
    "\n",
    "$$H_0:\\mu_c=\\mu_i$$\n",
    "$$H_1:\\mu_c\\neq\\mu_i$$\n",
    "\n",
    "or\n",
    "\n",
    "$$H_0:\\mu_c-\\mu_i=0$$\n",
    "$$H_1:\\mu_c-\\mu_i\\neq0$$\n",
    "\n",
    "or analysing the difference as:\n",
    "\n",
    "$$H_0:\\mu_D=0$$\n",
    "$$H_1:\\mu_D\\neq0$$\n",
    "\n",
    "Where $\\mu_i$ is the mean of the incongruent condition and $\\mu_c$ is the mean of the congruent condition. If the difference,$\\mu_D$ is signifficantly greater than 0 we can infere that reading the incongruent serie takes longer that the congurent serie.\n",
    "\n",
    "\n",
    " "
   ]
  },
  {
   "cell_type": "markdown",
   "metadata": {},
   "source": [
    "(3) Report some descriptive statistics regarding this dataset. Include at least one measure of central tendency and at least one measure of variability. The name of the data file is 'stroopdata.csv'.\n"
   ]
  },
  {
   "cell_type": "code",
   "execution_count": 18,
   "metadata": {},
   "outputs": [],
   "source": [
    "# Perform the analysis here\n",
    "import pandas as pd\n",
    "import numpy as np\n",
    "import matplotlib.pyplot as plt\n",
    "import seaborn as sns\n",
    "import scipy.stats as st \n",
    "sns.set_style('darkgrid')\n",
    "\n",
    "%matplotlib inline\n",
    "\n",
    "df = pd.read_csv('stroopdata.csv')\n"
   ]
  },
  {
   "cell_type": "markdown",
   "metadata": {},
   "source": [
    "### Data Wrangling\n",
    "\n",
    "After ploting the Congruent and Incongruent values I realized that the Incongruent condition contains 2 values which much larger than all the other recorded values in the series. I don't believe that this values are relevant for my analysis. Therefore I am going to assign them the mean of the serie.\n",
    "\n",
    "Here are the two values that I consider outliers:"
   ]
  },
  {
   "cell_type": "code",
   "execution_count": 2,
   "metadata": {},
   "outputs": [
    {
     "data": {
      "text/html": [
       "<div>\n",
       "<style>\n",
       "    .dataframe thead tr:only-child th {\n",
       "        text-align: right;\n",
       "    }\n",
       "\n",
       "    .dataframe thead th {\n",
       "        text-align: left;\n",
       "    }\n",
       "\n",
       "    .dataframe tbody tr th {\n",
       "        vertical-align: top;\n",
       "    }\n",
       "</style>\n",
       "<table border=\"1\" class=\"dataframe\">\n",
       "  <thead>\n",
       "    <tr style=\"text-align: right;\">\n",
       "      <th></th>\n",
       "      <th>Congruent</th>\n",
       "      <th>Incongruent</th>\n",
       "    </tr>\n",
       "  </thead>\n",
       "  <tbody>\n",
       "    <tr>\n",
       "      <th>14</th>\n",
       "      <td>18.200</td>\n",
       "      <td>35.255</td>\n",
       "    </tr>\n",
       "    <tr>\n",
       "      <th>19</th>\n",
       "      <td>12.369</td>\n",
       "      <td>34.288</td>\n",
       "    </tr>\n",
       "  </tbody>\n",
       "</table>\n",
       "</div>"
      ],
      "text/plain": [
       "    Congruent  Incongruent\n",
       "14     18.200       35.255\n",
       "19     12.369       34.288"
      ]
     },
     "execution_count": 2,
     "metadata": {},
     "output_type": "execute_result"
    }
   ],
   "source": [
    "df.query('Incongruent > 30')"
   ]
  },
  {
   "cell_type": "code",
   "execution_count": 3,
   "metadata": {},
   "outputs": [],
   "source": [
    "#changing this outliers with the mean of the series\n",
    "Incongruent_mean = df['Incongruent'].mean()\n",
    "\n",
    "df.loc[14,'Incongruent'] = Incongruent_mean\n",
    "df.loc[19,'Incongruent'] = Incongruent_mean\n"
   ]
  },
  {
   "cell_type": "code",
   "execution_count": 16,
   "metadata": {},
   "outputs": [],
   "source": [
    "#adding a column for differences\n",
    "df['Difference'] = df['Incongruent'] - df['Congruent']\n"
   ]
  },
  {
   "cell_type": "markdown",
   "metadata": {},
   "source": [
    "Besides the two outliers the data set looks clean. There are no NULL values."
   ]
  },
  {
   "cell_type": "markdown",
   "metadata": {},
   "source": [
    "### Descriptive Statistics"
   ]
  },
  {
   "cell_type": "code",
   "execution_count": 5,
   "metadata": {},
   "outputs": [
    {
     "data": {
      "text/html": [
       "<div>\n",
       "<style>\n",
       "    .dataframe thead tr:only-child th {\n",
       "        text-align: right;\n",
       "    }\n",
       "\n",
       "    .dataframe thead th {\n",
       "        text-align: left;\n",
       "    }\n",
       "\n",
       "    .dataframe tbody tr th {\n",
       "        vertical-align: top;\n",
       "    }\n",
       "</style>\n",
       "<table border=\"1\" class=\"dataframe\">\n",
       "  <thead>\n",
       "    <tr style=\"text-align: right;\">\n",
       "      <th></th>\n",
       "      <th>Congruent</th>\n",
       "      <th>Incongruent</th>\n",
       "      <th>Difference</th>\n",
       "    </tr>\n",
       "  </thead>\n",
       "  <tbody>\n",
       "    <tr>\n",
       "      <th>count</th>\n",
       "      <td>24.000000</td>\n",
       "      <td>24.000000</td>\n",
       "      <td>24.000000</td>\n",
       "    </tr>\n",
       "    <tr>\n",
       "      <th>mean</th>\n",
       "      <td>14.051125</td>\n",
       "      <td>20.952951</td>\n",
       "      <td>6.901826</td>\n",
       "    </tr>\n",
       "    <tr>\n",
       "      <th>std</th>\n",
       "      <td>3.559358</td>\n",
       "      <td>2.768421</td>\n",
       "      <td>3.361572</td>\n",
       "    </tr>\n",
       "    <tr>\n",
       "      <th>min</th>\n",
       "      <td>8.630000</td>\n",
       "      <td>15.687000</td>\n",
       "      <td>1.950000</td>\n",
       "    </tr>\n",
       "    <tr>\n",
       "      <th>25%</th>\n",
       "      <td>11.895250</td>\n",
       "      <td>18.716750</td>\n",
       "      <td>3.645500</td>\n",
       "    </tr>\n",
       "    <tr>\n",
       "      <th>50%</th>\n",
       "      <td>14.356500</td>\n",
       "      <td>21.017500</td>\n",
       "      <td>7.128000</td>\n",
       "    </tr>\n",
       "    <tr>\n",
       "      <th>75%</th>\n",
       "      <td>16.200750</td>\n",
       "      <td>22.319250</td>\n",
       "      <td>9.812500</td>\n",
       "    </tr>\n",
       "    <tr>\n",
       "      <th>max</th>\n",
       "      <td>22.328000</td>\n",
       "      <td>26.282000</td>\n",
       "      <td>11.802000</td>\n",
       "    </tr>\n",
       "  </tbody>\n",
       "</table>\n",
       "</div>"
      ],
      "text/plain": [
       "       Congruent  Incongruent  Difference\n",
       "count  24.000000    24.000000   24.000000\n",
       "mean   14.051125    20.952951    6.901826\n",
       "std     3.559358     2.768421    3.361572\n",
       "min     8.630000    15.687000    1.950000\n",
       "25%    11.895250    18.716750    3.645500\n",
       "50%    14.356500    21.017500    7.128000\n",
       "75%    16.200750    22.319250    9.812500\n",
       "max    22.328000    26.282000   11.802000"
      ]
     },
     "execution_count": 5,
     "metadata": {},
     "output_type": "execute_result"
    }
   ],
   "source": [
    "df.describe()"
   ]
  },
  {
   "cell_type": "markdown",
   "metadata": {},
   "source": [
    "\n",
    "\n",
    "#### Congruent condition"
   ]
  },
  {
   "cell_type": "code",
   "execution_count": 6,
   "metadata": {},
   "outputs": [
    {
     "name": "stdout",
     "output_type": "stream",
     "text": [
      "Congruent Mean is 14.051125\n",
      "Congruent Variance is 12.6690290707\n",
      "Congruent Standard Deviation is 3.55935795765\n"
     ]
    }
   ],
   "source": [
    "Congruent_mean = df['Congruent'].mean()\n",
    "Congruent_variance = df['Congruent'].var()\n",
    "Congruent_std = df['Congruent'].std()\n",
    "\n",
    "print('Congruent Mean is ' + str(Congruent_mean))\n",
    "print('Congruent Variance is ' + str(Congruent_variance))\n",
    "print('Congruent Standard Deviation is ' + str(Congruent_std))"
   ]
  },
  {
   "cell_type": "markdown",
   "metadata": {},
   "source": [
    "\n",
    "#### Incongruent condition"
   ]
  },
  {
   "cell_type": "code",
   "execution_count": 17,
   "metadata": {},
   "outputs": [
    {
     "name": "stdout",
     "output_type": "stream",
     "text": [
      "Incongruent Mean is 20.9529513889\n",
      "Incongruent Variance is 7.66415524451\n",
      "Incongruent Standard Deviation is 2.76842107428\n"
     ]
    }
   ],
   "source": [
    "Incongruent_mean = df['Incongruent'].mean()\n",
    "Incongruent_variance = df['Incongruent'].var()\n",
    "Incongruent_std = df['Incongruent'].std()\n",
    "\n",
    "print('Incongruent Mean is ' + str(Incongruent_mean))\n",
    "print('Incongruent Variance is ' + str(Incongruent_variance))\n",
    "print('Incongruent Standard Deviation is ' + str(Incongruent_std))"
   ]
  },
  {
   "cell_type": "markdown",
   "metadata": {},
   "source": [
    "#### Observed mean difference"
   ]
  },
  {
   "cell_type": "code",
   "execution_count": 8,
   "metadata": {},
   "outputs": [
    {
     "name": "stdout",
     "output_type": "stream",
     "text": [
      "Observed diffrence in means is 6.90182638889\n"
     ]
    }
   ],
   "source": [
    "obs_diff = Incongruent_mean - Congruent_mean\n",
    "\n",
    "print('Observed diffrence in means is ' + str(obs_diff))"
   ]
  },
  {
   "cell_type": "markdown",
   "metadata": {},
   "source": [
    "(4) Provide one or two visualizations that show the distribution of the sample data. Write one or two sentences noting what you observe about the plot or plots."
   ]
  },
  {
   "cell_type": "code",
   "execution_count": 9,
   "metadata": {},
   "outputs": [
    {
     "data": {
      "image/png": "[encoded data removed]",
      "text/plain": [
       "<matplotlib.figure.Figure at 0x7fb7eeb93780>"
      ]
     },
     "metadata": {},
     "output_type": "display_data"
    }
   ],
   "source": [
    "cong_series = df['Congruent']\n",
    "incong_series = df['Incongruent']\n",
    "cong_incong_series = df[['Congruent','Incongruent']]\n",
    "\n",
    "\n",
    "title = 'Histogram of Both Conditions'\n",
    "kind = 'hist'\n",
    "alpha = 0.5\n",
    "plot = cong_incong_series.plot(title=title, kind=kind, alpha=alpha, bins=12)\n",
    "xLabel = plt.xlabel('Time (seconds)')\n",
    "window = plt.axis([0,30,0,8])"
   ]
  },
  {
   "cell_type": "code",
   "execution_count": 10,
   "metadata": {},
   "outputs": [
    {
     "data": {
      "image/png": "[encoded data removed]",
      "text/plain": [
       "<matplotlib.figure.Figure at 0x7fb7ecad8b70>"
      ]
     },
     "metadata": {},
     "output_type": "display_data"
    }
   ],
   "source": [
    "cong_incong_series = df[['Congruent','Incongruent']]\n",
    "cong_mean = df['Congruent']\n",
    "incong_mean = df['Incongruent']\n",
    "\n",
    "# Box plots of the two conditions\n",
    "title = 'Box Plot for the two Conditions'\n",
    "kind = 'box'\n",
    "cong_incong_series.plot(title=title, kind=kind)\n",
    "ylabel = plt.ylabel('Time (seconds)')"
   ]
  },
  {
   "cell_type": "markdown",
   "metadata": {},
   "source": [
    "### Observation 1\n",
    "\n",
    "With th eabove visualization we can see that the 3rd quartile in the Congruent series is less than the 1st quartile in the InCongruent series. This visualization offers a good indication that the mean values for the congruent series are generally lower than the Incongruent."
   ]
  },
  {
   "cell_type": "code",
   "execution_count": 11,
   "metadata": {},
   "outputs": [
    {
     "data": {
      "image/png": "[encoded data removed]",
      "text/plain": [
       "<matplotlib.figure.Figure at 0x7fb7ecad8cf8>"
      ]
     },
     "metadata": {},
     "output_type": "display_data"
    }
   ],
   "source": [
    "# Build the visualizations here\n",
    "\n",
    "ind = np.arange(len(cong_mean))  # the x locations for the groups\n",
    "width = 0.15       # the width of the bars\n",
    "\n",
    "# plot lines\n",
    "plt.plot(ind,cong_mean,label='Congruent',color='b', alpha=.9)\n",
    "plt.plot(ind,incong_mean,label='Incongruent',color='r', alpha=.9);\n",
    "\n",
    "# title and labels\n",
    "plt.ylabel('Time(seconds)')\n",
    "plt.xlabel('Readings')\n",
    "plt.title('Congruent vs Incongruent Series')\n",
    "locations = ind + width / 2  # xtick locations\n",
    "labels = ['1', '2', '3', '4', '5', '6', '7','8','9','10','11','12','13','14','15','16','17','18','19','20','21','22','23','24']  # xtick labels\n",
    "plt.xticks(locations, labels)\n",
    "\n",
    "# legend\n",
    "plt.legend();"
   ]
  },
  {
   "cell_type": "markdown",
   "metadata": {},
   "source": [
    "### Observation 2\n",
    "\n",
    "With the help of the above visualization we identify that **each** participant needed more time to read the **Incongruent** serie than needed for the Congurent serie.\n",
    "\n",
    "*Note* with the help of his visualization I noticed the 2 outliers in the data and decided to remove them."
   ]
  },
  {
   "cell_type": "markdown",
   "metadata": {},
   "source": [
    "(5) Now, perform the statistical test and report the results. What is the confidence level and your critical statistic value? Do you reject the null hypothesis or fail to reject it? Come to a conclusion in terms of the experiment task. Did the results match up with your expectations?"
   ]
  },
  {
   "cell_type": "code",
   "execution_count": 12,
   "metadata": {},
   "outputs": [
    {
     "name": "stdout",
     "output_type": "stream",
     "text": [
      "t-statistic = 10.06\n",
      "p-value = 0.0000000007\n"
     ]
    }
   ],
   "source": [
    "# Perform the statistical test here\n",
    "\n",
    "ttestResults = st.ttest_rel(incong_mean, cong_mean)\n",
    "tstatistic = ttestResults[0]\n",
    "pvalue = ttestResults[1]\n",
    "print( \"t-statistic = \" + '%.2f' % tstatistic )\n",
    "print( \"p-value = \" + '%.10f' % pvalue )"
   ]
  },
  {
   "cell_type": "markdown",
   "metadata": {},
   "source": [
    "### T-Test Results\n",
    "\n",
    "Previously we've calculated descriptive statistics of both conditions.\n",
    "We understood that the sample is equaly sized, we have interogated 24 participants, recorded 24 times for both condition the congruent and incongruent condition. As participants will be asked to read both series, the test will always have equaly sized entries. We have a relatively small sample size but the results of our analysis can be infered to the entire population.\n",
    "\n",
    "In the Descriptive Statistics section we've computed the standard deviation as follows:\n",
    "Congruent Standard Deviation is 3.559\n",
    "Incongruent Standard Deviation is 2.768\n",
    "We observed that the standard deviation is very similar for both conditions. \n",
    "\n",
    "Hence, in this analysis we have chosen to use a two-tailed t-test. Because participants have been asked to perform two readings, each participant has two entries our ttest will be a paired one. In other words for each participant we have one congruent entry and an incongruent entry.\n",
    "\n",
    "The t-statistic has a value of 10.06 and a p-value of 0.0000000007. For this test we chose an alpha value of 0.05 with a two-tailed distirbution.\n",
    "Based on the facts above we are able to REJECT the null hypothesis. This result is not surprising, it aligns with our intuition that there is significant difference between the times under which colors are recited when they match the denotation of the word and when they do not.\n",
    "\n",
    "**Please Note** that the t-statistic value omits 2 entries which I considered outliers and removed from the DataFrame. I understand that the p-value is also refered to as the t-critical value, in our case  0.0000000007.\n",
    "\n",
    "To fit the Stroop experiment, we can think of another example that only uses the visual sens. Here, an example would be showing a well known image like sea, sunset, winter snow, rain and promp subtitles denoting another image.\n",
    "\n",
    "Another exmaple that I could think of, using this time not only the visual sens, is the subjecting participants to matching characteristics of well known animals. Matching the sound of an animal with it's image vs matching them when the image and the sound is different. \n",
    "\n",
    "The difference in times could be explained by the brain ability to easily make decision and provide answers matching the NEW situation with the previous experiences lived. A computer would be less likely to fail this test.\n",
    " \n",
    " \n",
    " "
   ]
  },
  {
   "cell_type": "markdown",
   "metadata": {},
   "source": [
    "## Conclusions"
   ]
  },
  {
   "cell_type": "markdown",
   "metadata": {},
   "source": [
    "After performing this test we are able to state that based on our sample data we have statistical evidence to strongly afirm that people stating the color of a word, denoting colors , takes a different amount of time when the names and the color match versus when the name doesn not match the color.\n",
    "\n",
    "It will take our subjects longer to complete the test when the color and name do not match. We have seen this result using desciptive statistics on our sample data and have good reasons to infere this result to the entire population.\n"
   ]
  },
  {
   "cell_type": "code",
   "execution_count": null,
   "metadata": {},
   "outputs": [],
   "source": []
  }
 ],
 "metadata": {
  "kernelspec": {
   "display_name": "Python 3",
   "language": "python",
   "name": "python3"
  },
  "language_info": {
   "codemirror_mode": {
    "name": "ipython",
    "version": 3
   },
   "file_extension": ".py",
   "mimetype": "text/x-python",
   "name": "python",
   "nbconvert_exporter": "python",
   "pygments_lexer": "ipython3",
   "version": "3.6.3"
  }
 },
 "nbformat": 4,
 "nbformat_minor": 2
}
